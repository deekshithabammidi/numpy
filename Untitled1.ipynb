{
  "nbformat": 4,
  "nbformat_minor": 0,
  "metadata": {
    "colab": {
      "provenance": [],
      "authorship_tag": "ABX9TyMlUd5Of/hEhzhVni00yTKV",
      "include_colab_link": true
    },
    "kernelspec": {
      "name": "python3",
      "display_name": "Python 3"
    },
    "language_info": {
      "name": "python"
    }
  },
  "cells": [
    {
      "cell_type": "markdown",
      "metadata": {
        "id": "view-in-github",
        "colab_type": "text"
      },
      "source": [
        "<a href=\"https://colab.research.google.com/github/deekshithabammidi/numpy/blob/main/Untitled1.ipynb\" target=\"_parent\"><img src=\"https://colab.research.google.com/assets/colab-badge.svg\" alt=\"Open In Colab\"/></a>"
      ]
    },
    {
      "cell_type": "code",
      "execution_count": null,
      "metadata": {
        "colab": {
          "base_uri": "https://localhost:8080/"
        },
        "id": "VGsGxa4yCVRR",
        "outputId": "66c31fab-918f-45ce-8465-008ab215ef39"
      },
      "outputs": [
        {
          "name": "stdout",
          "output_type": "stream",
          "text": [
            "Python is powerful... and fast;\n",
            "plays well with others;\n",
            "runs everywhere;\n",
            "is friendly & easy to learn;\n",
            "is Open.\n",
            "These are some of the reasons people who use Python would rather not use anything else.\n",
            "\n",
            "Getting Started\n",
            "Python can be easy to pick up whether you're a first time programmer or you're experienced with other languages. The following pages are a useful first step to get on your way writing programs with Python!\n",
            "\n",
            "Beginner's Guide, Programmers\n",
            "Beginner's Guide, Non-Programmers\n",
            "Beginner's Guide, Download & Installation\n",
            "Code sample and snippets for Beginners\n"
          ]
        }
      ],
      "source": [
        "fp = open(\"Demo.txt\",\"r\")\n",
        "text = fp.read()\n",
        "print(text)"
      ]
    },
    {
      "cell_type": "code",
      "execution_count": null,
      "metadata": {
        "colab": {
          "base_uri": "https://localhost:8080/"
        },
        "id": "GbGCHYgBDgJ9",
        "outputId": "09633ae0-d886-43e6-a92e-2ec08b09e59a"
      },
      "outputs": [
        {
          "name": "stdout",
          "output_type": "stream",
          "text": [
            "1\n",
            "2\n",
            "3\n",
            "4\n",
            "5\n",
            "6\n",
            "7\n",
            "8\n",
            "9\n",
            "10\n",
            "11\n",
            "12\n",
            "13\n",
            "14\n",
            "15\n",
            "16\n",
            "17\n",
            "18\n",
            "19\n",
            "20\n",
            "\n",
            "<class 'str'>\n"
          ]
        }
      ],
      "source": [
        "fp1 = open(\"WriteNumbers.txt\",\"r\")\n",
        "num = fp1.read()\n",
        "print(num)\n",
        "print(type(num))\n"
      ]
    },
    {
      "cell_type": "code",
      "source": [],
      "metadata": {
        "id": "1iBKSsdfW5TG"
      },
      "execution_count": null,
      "outputs": []
    },
    {
      "cell_type": "code",
      "execution_count": null,
      "metadata": {
        "colab": {
          "base_uri": "https://localhost:8080/"
        },
        "id": "WOugCzqBFete",
        "outputId": "95492a7c-0941-467d-e1e6-2634fed49d98"
      },
      "outputs": [
        {
          "name": "stdout",
          "output_type": "stream",
          "text": [
            "Monday\n",
            "Tuesday\n",
            "Wednesday\n",
            "Thursday\n",
            "Friday\n",
            "\n"
          ]
        }
      ],
      "source": [
        "fp1 = open(\"Weekdays.txt\",\"w+\")     #Open file in w+ mode\n",
        "fp1.write(\"Monday\\n\")               #Write to file\n",
        "fp1.write(\"Tuesday\\n\")\n",
        "fp1.write(\"Wednesday\\n\")\n",
        "fp1.write(\"Thursday\\n\")\n",
        "fp1.write(\"Friday\\n\")\n",
        "fp1.seek(0)                         #Set file pointer to start of the file\n",
        "t = fp1.read()                      #Read file from current file pointer till end\n",
        "print(t)"
      ]
    },
    {
      "cell_type": "code",
      "execution_count": null,
      "metadata": {
        "colab": {
          "base_uri": "https://localhost:8080/"
        },
        "id": "HPnzw5h7PfpQ",
        "outputId": "6855de31-0d2d-4ab5-dd41-211408ede6c3"
      },
      "outputs": [
        {
          "name": "stdout",
          "output_type": "stream",
          "text": [
            "Monday\n",
            "Tuesday\n",
            "Wednesday\n",
            "Thursday\n",
            "Friday\n",
            "Saturday\n",
            "Sunday\n",
            "\n"
          ]
        }
      ],
      "source": [
        "fp1.seek(0,2)                     #Move file from current file pointer till end\n",
        "fp1.write('Saturday\\n')           #Write at the end of file\n",
        "fp1.write(\"Sunday\\n\")\n",
        "fp1.seek(0)\n",
        "t = fp1.read()\n",
        "print(t)"
      ]
    }
  ]
}